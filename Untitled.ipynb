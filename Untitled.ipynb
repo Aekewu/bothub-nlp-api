{
 "cells": [
  {
   "cell_type": "markdown",
   "metadata": {},
   "source": [
    "https://www.huyng.com/posts/python-performance-analysis"
   ]
  },
  {
   "cell_type": "markdown",
   "metadata": {},
   "source": [
    "# big picture\n",
    "Permitir que uma aplicação elixir se comunique com o rasa.\n",
    "\n",
    "## Desafios\n",
    "* Desacoplamento simples e fácil sem a necessidade de modificação no código;\n",
    "* \n",
    "\n",
    "## Bot server\n",
    "Será responsável por permitir a comunicação entre o phoenix(elixir) e o bot manager.\n",
    "\n",
    "### Bot manager\n",
    "Responsável por transformar os bots em processos e gerenciá-los.\n",
    "\n",
    "### Dilema\n",
    "Implementar GC no bot manager para matar os processos, ou, deixar cada bot matar a sí próprio?\n",
    "\n",
    "## Material de apoio\n",
    "https://www.pubnub.com/blog/2015-01-05-websockets-vs-rest-api-understanding-the-difference/\n",
    "http://blog.arungupta.me/rest-vs-websocket-comparison-benchmarks/"
   ]
  },
  {
   "cell_type": "markdown",
   "metadata": {},
   "source": [
    "# Código RASA"
   ]
  },
  {
   "cell_type": "code",
   "execution_count": null,
   "metadata": {},
   "outputs": [],
   "source": [
    "!python -m spacy download en"
   ]
  },
  {
   "cell_type": "code",
   "execution_count": 11,
   "metadata": {},
   "outputs": [
    {
     "name": "stdout",
     "output_type": "stream",
     "text": [
      "Fitting 2 folds for each of 6 candidates, totalling 12 fits\n"
     ]
    },
    {
     "name": "stderr",
     "output_type": "stream",
     "text": [
      "[Parallel(n_jobs=1)]: Done  12 out of  12 | elapsed:    0.0s finished\n"
     ]
    }
   ],
   "source": [
    "from rasa_nlu.converters import load_data\n",
    "from rasa_nlu.config import RasaNLUConfig\n",
    "from rasa_nlu.model import Trainer\n",
    "\n",
    "data_file = './data/demo-rasa.json'\n",
    "config_file = 'config_spacy.json'\n",
    "model_dir = './models/'\n",
    "\n",
    "training_data = load_data(data_file)\n",
    "trainer = Trainer(RasaNLUConfig(config_file))\n",
    "trainer.train(training_data)\n",
    "model_directory = trainer.persist(model_dir)  # Returns the directory the model is stored in"
   ]
  },
  {
   "cell_type": "code",
   "execution_count": 13,
   "metadata": {
    "collapsed": true
   },
   "outputs": [],
   "source": [
    "from rasa_nlu.model import Metadata, Interpreter\n",
    "\n",
    "metadata = Metadata.load(model_directory)   # where model_directory points to the folder the model is persisted in\n",
    "interpreter = Interpreter.load(metadata, RasaNLUConfig(config_file))"
   ]
  },
  {
   "cell_type": "code",
   "execution_count": 17,
   "metadata": {
    "scrolled": true
   },
   "outputs": [
    {
     "data": {
      "text/plain": [
       "{'entities': [],\n",
       " 'intent': {'confidence': 0.35639355861173411, 'name': 'restaurant_search'},\n",
       " 'intent_ranking': [{'confidence': 0.35639355861173411,\n",
       "   'name': 'restaurant_search'},\n",
       "  {'confidence': 0.33277830973734218, 'name': 'goodbye'},\n",
       "  {'confidence': 0.20749250329932523, 'name': 'affirm'},\n",
       "  {'confidence': 0.10333562835159855, 'name': 'greet'}],\n",
       " 'text': 'Where i can buy a weapon?'}"
      ]
     },
     "execution_count": 17,
     "metadata": {},
     "output_type": "execute_result"
    }
   ],
   "source": [
    "interpreter.parse('Where i can buy a weapon?')"
   ]
  },
  {
   "cell_type": "markdown",
   "metadata": {},
   "source": [
    "# Código servidor"
   ]
  },
  {
   "cell_type": "code",
   "execution_count": 27,
   "metadata": {},
   "outputs": [],
   "source": [
    "import socketserver\n",
    "\n",
    "class MyTCPHandler(socketserver.StreamRequestHandler):\n",
    "\n",
    "    def handle(self):\n",
    "        # self.rfile is a file-like object created by the handler;\n",
    "        # we can now use e.g. readline() instead of raw recv() calls\n",
    "        self.data = self.rfile.readline().strip()\n",
    "        print(\"{} wrote:\".format(self.client_address[0]))\n",
    "        print(self.data)\n",
    "        # Likewise, self.wfile is a file-like object used to write back\n",
    "        # to the client\n",
    "        self.wfile.write(self.data.upper())"
   ]
  },
  {
   "cell_type": "code",
   "execution_count": null,
   "metadata": {
    "collapsed": true
   },
   "outputs": [],
   "source": [
    "HOST='localhost'\n",
    "PORT = 9999\n",
    "\n",
    "# Create the server, binding to localhost on port 9999\n",
    "with socketserver.TCPServer((HOST, PORT), MyTCPHandler) as server:\n",
    "    # Activate the server; this will keep running until you\n",
    "    # interrupt the program with Ctrl-C\n",
    "    server.serve_forever()\n",
    "\n",
    "# if __name__ == \"__main__\":\n",
    "#     HOST, PORT = \"localhost\", 9999\n",
    "\n",
    "#     # Create the server, binding to localhost on port 9999\n",
    "#     with socketserver.TCPServer((HOST, PORT), MyTCPHandler) as server:\n",
    "#         # Activate the server; this will keep running until you\n",
    "#         # interrupt the program with Ctrl-C\n",
    "#         server.serve_forever()"
   ]
  },
  {
   "cell_type": "code",
   "execution_count": null,
   "metadata": {
    "collapsed": true
   },
   "outputs": [],
   "source": [
    "import socket\n",
    "import sys\n",
    "\n",
    "HOST, PORT = \"localhost\", 9999\n",
    "data = \" \".join(sys.argv[1:])\n",
    "\n",
    "# Create a socket (SOCK_STREAM means a TCP socket)\n",
    "with socket.socket(socket.AF_INET, socket.SOCK_STREAM) as sock:\n",
    "    # Connect to server and send data\n",
    "    sock.connect((HOST, PORT))\n",
    "    sock.sendall(bytes(data + \"\\n\", \"utf-8\"))\n",
    "\n",
    "    # Receive data from the server and shut down\n",
    "    received = str(sock.recv(1024), \"utf-8\")\n",
    "\n",
    "print(\"Sent:     {}\".format(data))\n",
    "print(\"Received: {}\".format(received))"
   ]
  }
 ],
 "metadata": {
  "kernelspec": {
   "display_name": "Python 3",
   "language": "python",
   "name": "python3"
  },
  "language_info": {
   "codemirror_mode": {
    "name": "ipython",
    "version": 3
   },
   "file_extension": ".py",
   "mimetype": "text/x-python",
   "name": "python",
   "nbconvert_exporter": "python",
   "pygments_lexer": "ipython3",
   "version": "3.6.1"
  }
 },
 "nbformat": 4,
 "nbformat_minor": 2
}
